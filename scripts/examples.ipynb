{
 "cells": [
  {
   "cell_type": "code",
   "execution_count": null,
   "metadata": {},
   "outputs": [],
   "source": [
    "import sys\n",
    "import os\n",
    "import plotly.graph_objs as go\n",
    "import plotly.express as px\n",
    "import numpy as np\n",
    "import scipy.signal\n",
    "import scipy.ndimage\n",
    "sys.path.append('..')\n",
    "import gridijkstra\n",
    "os.getpid()"
   ]
  },
  {
   "cell_type": "markdown",
   "metadata": {},
   "source": [
    "# Example 1: Random hilly terrain"
   ]
  },
  {
   "cell_type": "code",
   "execution_count": null,
   "metadata": {},
   "outputs": [],
   "source": [
    "np.random.seed(123)\n",
    "nf = 151\n",
    "w = np.random.normal(size=(213 + 2 * nf, 177 + 2 * nf))\n",
    "ws = scipy.ndimage.gaussian_filter(w, 20)\n",
    "# wg = np.linalg.norm(np.array(np.gradient(ws)), axis=0)\n",
    "\n",
    "costs = 1.0 + (3 * (ws - ws.min()) / (ws.max() - ws.min())) ** 2"
   ]
  },
  {
   "cell_type": "code",
   "execution_count": null,
   "metadata": {},
   "outputs": [],
   "source": [
    "px.imshow(costs.T, origin='lower')"
   ]
  },
  {
   "cell_type": "code",
   "execution_count": null,
   "metadata": {},
   "outputs": [],
   "source": [
    "stencil_4 = [\n",
    "    (1, 0),\n",
    "    (0, 1),\n",
    "    (-1, 0),\n",
    "    (0, -1),\n",
    "]\n",
    "\n",
    "stencil_8 = stencil_4 + [\n",
    "    (1, 1),\n",
    "    (-1, 1),\n",
    "    (1, -1),\n",
    "    (-1, -1),\n",
    "]\n",
    "\n",
    "stencil_24 = stencil_8 + [\n",
    "    (2, -2), (2, -1), (2, 0), (2, 1), (2, 2),\n",
    "    (1, -2),                          (1, 2),\n",
    "    (0, -2),                          (0, 2),\n",
    "    (-1, -2),                         (-1, 2),\n",
    "    (-2, -2), (-2, -1), (-2, 0), (-2, 1), (-2, 2),\n",
    "]"
   ]
  },
  {
   "cell_type": "code",
   "execution_count": null,
   "metadata": {},
   "outputs": [],
   "source": [
    "total_4, path_4, length_4 = gridijkstra.plan(\n",
    "    costs,\n",
    "    (10, 10),\n",
    "    (307, 417),\n",
    "    stencil_4,\n",
    "    return_path=True,\n",
    "    return_length=True,\n",
    ")\n",
    "\n",
    "total_8, path_8, length_8 = gridijkstra.plan(\n",
    "    costs,\n",
    "    (10, 10),\n",
    "    (307, 417),\n",
    "    stencil_8,\n",
    "    return_path=True,\n",
    "    return_length=True,\n",
    ")\n",
    "\n",
    "total_24, path_24, length_24 = gridijkstra.plan(\n",
    "    costs,\n",
    "    (10, 10),\n",
    "    (307, 417),\n",
    "    stencil_24,\n",
    "    return_path=True,\n",
    "    return_length=True,\n",
    ")"
   ]
  },
  {
   "cell_type": "code",
   "execution_count": null,
   "metadata": {},
   "outputs": [],
   "source": [
    "print( 'Neighbors     length      total')\n",
    "print(f'4             {length_4:6.1f}     {total_4:5.5}')\n",
    "print(f'8             {length_8:6.1f}     {total_8:5.5}')\n",
    "print(f'24            {length_24:6.1f}     {total_24:5.5}')"
   ]
  },
  {
   "cell_type": "code",
   "execution_count": null,
   "metadata": {},
   "outputs": [],
   "source": [
    "fig = px.imshow(costs.T, origin='lower', color_continuous_scale='gray_r', zmax=costs.max() / 3)\n",
    "fig.add_scatter(x=path_4[:, 0], y=path_4[:, 1], name='4 neighbors')\n",
    "fig.add_scatter(x=path_8[:, 0], y=path_8[:, 1], name='8 neighbors')\n",
    "fig.add_scatter(x=path_24[:, 0], y=path_24[:, 1], name='24 neighbors')\n",
    "fig.layout.coloraxis.showscale = False\n",
    "fig"
   ]
  },
  {
   "cell_type": "markdown",
   "metadata": {},
   "source": [
    "# Example 2: Calculate upland"
   ]
  },
  {
   "cell_type": "code",
   "execution_count": null,
   "metadata": {},
   "outputs": [],
   "source": [
    "upland_stencil = stencil_8.copy()"
   ]
  },
  {
   "cell_type": "code",
   "execution_count": null,
   "metadata": {},
   "outputs": [],
   "source": [
    "upland_gradients = {\n",
    "    s: (np.roll(costs, s, axis=(0, 1)) - costs) / np.linalg.norm(s)\n",
    "    for s in upland_stencil\n",
    "}\n",
    "upland_costs = {\n",
    "    s: np.where(ug <= 0.0, 1.0, np.inf)\n",
    "    for s, ug in upland_gradients.items()\n",
    "}\n",
    "# Correct for incorrect (but convenient) use of np.roll\n",
    "for ug in upland_costs.values():\n",
    "    ug[0, :] = np.inf\n",
    "    ug[:, 0] = np.inf\n",
    "    ug[-1, :] = np.inf\n",
    "    ug[:, -1] = np.inf"
   ]
  },
  {
   "cell_type": "code",
   "execution_count": null,
   "metadata": {},
   "outputs": [],
   "source": [
    "ii, jj = np.meshgrid(range(costs.shape[0]), range(costs.shape[1]), indexing='ij')\n",
    "ij1 = np.array((ii.flatten(), jj.flatten())).T\n",
    "ij0 = np.zeros_like(ij1)\n",
    "ij0[:, 0] = 225\n",
    "ij0[:, 1] = 316\n",
    "\n",
    "total_costs = gridijkstra.plan(upland_costs, ij0, ij1)\n",
    "total_costs_2d = total_costs.reshape(costs.shape[0], costs.shape[1])"
   ]
  },
  {
   "cell_type": "code",
   "execution_count": null,
   "metadata": {},
   "outputs": [],
   "source": [
    "px.imshow(total_costs_2d.T, origin='lower')"
   ]
  },
  {
   "cell_type": "code",
   "execution_count": null,
   "metadata": {},
   "outputs": [],
   "source": [
    "costs_dup = costs.copy()\n",
    "costs_dup[np.isinf(total_costs_2d)] = np.nan\n",
    "f = px.imshow(costs.T, origin='lower', color_continuous_scale='gray')\n",
    "f.add_scatter(x=[ij0[0, 0]], y=[ij0[0, 1]])\n",
    "f.add_heatmap(z=costs_dup.T, colorscale='jet')"
   ]
  }
 ],
 "metadata": {
  "kernelspec": {
   "display_name": "Python 3",
   "language": "python",
   "name": "python3"
  },
  "language_info": {
   "codemirror_mode": {
    "name": "ipython",
    "version": 3
   },
   "file_extension": ".py",
   "mimetype": "text/x-python",
   "name": "python",
   "nbconvert_exporter": "python",
   "pygments_lexer": "ipython3",
   "version": "3.6.5"
  }
 },
 "nbformat": 4,
 "nbformat_minor": 2
}

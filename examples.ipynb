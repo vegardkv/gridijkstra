{
 "cells": [
  {
   "cell_type": "code",
   "execution_count": null,
   "metadata": {},
   "outputs": [],
   "source": [
    "import gridijkstra\n",
    "import plotly.graph_objs as go\n",
    "import plotly.express as px\n",
    "import numpy as np\n",
    "import scipy.signal\n",
    "import scipy.ndimage"
   ]
  },
  {
   "cell_type": "code",
   "execution_count": null,
   "metadata": {},
   "outputs": [],
   "source": [
    "np.random.seed(123)\n",
    "nf = 151\n",
    "w = np.random.normal(size=(213 + 2 * nf, 177 + 2 * nf))\n",
    "ws = scipy.ndimage.gaussian_filter(w, 20)\n",
    "# wg = np.linalg.norm(np.array(np.gradient(ws)), axis=0)\n",
    "\n",
    "costs = 1.0 + (3 * (ws - ws.min()) / (ws.max() - ws.min())) ** 2"
   ]
  },
  {
   "cell_type": "code",
   "execution_count": null,
   "metadata": {},
   "outputs": [],
   "source": [
    "px.imshow(costs.T, origin='lower')"
   ]
  },
  {
   "cell_type": "code",
   "execution_count": null,
   "metadata": {},
   "outputs": [],
   "source": [
    "stencil_4 = [\n",
    "    (1, 0),\n",
    "    (0, 1),\n",
    "    (-1, 0),\n",
    "    (0, -1),\n",
    "]\n",
    "\n",
    "stencil_8 = stencil_4 + [\n",
    "    (1, 1),\n",
    "    (-1, 1),\n",
    "    (1, -1),\n",
    "    (-1, -1),\n",
    "]\n",
    "\n",
    "stencil_24 = stencil_8 + [\n",
    "    (2, -2), (2, -1), (2, 0), (2, 1), (2, 2),\n",
    "    (1, -2),                          (1, 2),\n",
    "    (0, -2),                          (0, 2),\n",
    "    (-1, -2),                         (-1, 2),\n",
    "    (-2, -2), (-2, -1), (-2, 0), (-2, 1), (-2, 2),\n",
    "]"
   ]
  },
  {
   "cell_type": "code",
   "execution_count": null,
   "metadata": {},
   "outputs": [],
   "source": [
    "path_4, length_4, total_4 = gridijkstra.plan(\n",
    "    costs,\n",
    "    (10, 10),\n",
    "    (307, 417),\n",
    "    stencil_4,\n",
    "    return_total_cost=True,\n",
    ")\n",
    "\n",
    "path_8, length_8, total_8 = gridijkstra.plan(\n",
    "    costs,\n",
    "    (10, 10),\n",
    "    (307, 417),\n",
    "    stencil_8,\n",
    "    return_total_cost=True,\n",
    ")\n",
    "\n",
    "path_24, length_24, total_24 = gridijkstra.plan(\n",
    "    costs,\n",
    "    (10, 10),\n",
    "    (307, 417),\n",
    "    stencil_24,\n",
    "    return_total_cost=True,\n",
    ")"
   ]
  },
  {
   "cell_type": "code",
   "execution_count": null,
   "metadata": {},
   "outputs": [],
   "source": [
    "print( 'Neighbors     length      total')\n",
    "print(f'4             {length_4:6.1f}     {total_4:5.5}')\n",
    "print(f'8             {length_8:6.1f}     {total_8:5.5}')\n",
    "print(f'24            {length_24:6.1f}     {total_24:5.5}')"
   ]
  },
  {
   "cell_type": "code",
   "execution_count": null,
   "metadata": {},
   "outputs": [],
   "source": [
    "fig = px.imshow(costs.T, origin='lower', color_continuous_scale='gray_r', zmax=costs.max() / 3)\n",
    "fig.add_scatter(x=path_4[:, 0], y=path_4[:, 1], name='4 neighbors')\n",
    "fig.add_scatter(x=path_8[:, 0], y=path_8[:, 1], name='8 neighbors')\n",
    "fig.add_scatter(x=path_24[:, 0], y=path_24[:, 1], name='24 neighbors')\n",
    "fig.layout.coloraxis.showscale = False\n",
    "fig"
   ]
  },
  {
   "cell_type": "code",
   "execution_count": null,
   "metadata": {},
   "outputs": [],
   "source": []
  }
 ],
 "metadata": {
  "kernelspec": {
   "display_name": "Python 3",
   "language": "python",
   "name": "python3"
  },
  "language_info": {
   "codemirror_mode": {
    "name": "ipython",
    "version": 3
   },
   "file_extension": ".py",
   "mimetype": "text/x-python",
   "name": "python",
   "nbconvert_exporter": "python",
   "pygments_lexer": "ipython3",
   "version": "3.6.5"
  }
 },
 "nbformat": 4,
 "nbformat_minor": 2
}
